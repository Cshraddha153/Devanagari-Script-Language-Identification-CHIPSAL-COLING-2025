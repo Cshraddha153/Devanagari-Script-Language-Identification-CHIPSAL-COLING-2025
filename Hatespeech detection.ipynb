{
 "cells": [
  {
   "cell_type": "code",
   "execution_count": 46,
   "metadata": {},
   "outputs": [],
   "source": [
    "import pandas as pd\n",
    "data_train = pd.read_csv('Subtask B/trainB.csv')\n",
    "data_val = pd.read_csv('Subtask B/valB.csv')\n",
    "data_test = pd.read_csv('Subtask B/Task-B(index,tweet)_label_test.csv')"
   ]
  },
  {
   "cell_type": "code",
   "execution_count": 47,
   "metadata": {},
   "outputs": [],
   "source": [
    "train_text = data_train['tweet']\n",
    "val_text = data_val['tweet']\n",
    "test_text = data_test['tweet']\n",
    "\n",
    "class_label_train = data_train['label']\n",
    "class_label_val = data_val['label']\n",
    "# class_label_test = data_test['label']"
   ]
  },
  {
   "cell_type": "code",
   "execution_count": 48,
   "metadata": {},
   "outputs": [
    {
     "data": {
      "text/plain": [
       "(label\n",
       " non-hate    16805\n",
       " hate         2214\n",
       " Name: count, dtype: int64,\n",
       " label\n",
       " non-hate    3602\n",
       " hate         474\n",
       " Name: count, dtype: int64)"
      ]
     },
     "execution_count": 48,
     "metadata": {},
     "output_type": "execute_result"
    }
   ],
   "source": [
    "class_label_train.value_counts(), class_label_val.value_counts()"
   ]
  },
  {
   "cell_type": "code",
   "execution_count": 49,
   "metadata": {},
   "outputs": [],
   "source": [
    "import numpy as np\n",
    "classes_list = [\"non-hate\", \"hate\"]\n",
    "label_index_train = class_label_train.apply(classes_list.index)\n",
    "label_index_val = class_label_val.apply(classes_list.index)"
   ]
  },
  {
   "cell_type": "code",
   "execution_count": 50,
   "metadata": {},
   "outputs": [],
   "source": [
    "import ktrain\n",
    "from ktrain import text"
   ]
  },
  {
   "cell_type": "code",
   "execution_count": 60,
   "metadata": {},
   "outputs": [
    {
     "name": "stderr",
     "output_type": "stream",
     "text": [
      "c:\\Users\\nimmi\\anaconda3\\Lib\\site-packages\\ktrain\\text\\preprocessor.py:382: UserWarning: The class_names argument is replacing the classes argument. Please update your code.\n",
      "  warnings.warn(\n"
     ]
    },
    {
     "name": "stdout",
     "output_type": "stream",
     "text": [
      "preprocessing train...\n",
      "language: hi\n",
      "train sequence lengths:\n",
      "\tmean : 22\n",
      "\t95percentile : 44\n",
      "\t99percentile : 50\n"
     ]
    },
    {
     "name": "stderr",
     "output_type": "stream",
     "text": [
      "c:\\Users\\nimmi\\anaconda3\\Lib\\site-packages\\ktrain\\utils.py:744: UserWarning: class_names argument was ignored, as they were extracted from string labels in dataset\n",
      "  warnings.warn(\n"
     ]
    },
    {
     "data": {
      "text/html": [
       "\n",
       "<style>\n",
       "    /* Turns off some styling */\n",
       "    progress {\n",
       "        /* gets rid of default border in Firefox and Opera. */\n",
       "        border: none;\n",
       "        /* Needs to be in here for Safari polyfill so background images work as expected. */\n",
       "        background-size: auto;\n",
       "    }\n",
       "    progress:not([value]), progress:not([value])::-webkit-progress-bar {\n",
       "        background: repeating-linear-gradient(45deg, #7e7e7e, #7e7e7e 10px, #5c5c5c 10px, #5c5c5c 20px);\n",
       "    }\n",
       "    .progress-bar-interrupted, .progress-bar-interrupted::-webkit-progress-bar {\n",
       "        background: #F44336;\n",
       "    }\n",
       "</style>\n"
      ],
      "text/plain": [
       "<IPython.core.display.HTML object>"
      ]
     },
     "metadata": {},
     "output_type": "display_data"
    },
    {
     "data": {
      "text/html": [],
      "text/plain": [
       "<IPython.core.display.HTML object>"
      ]
     },
     "metadata": {},
     "output_type": "display_data"
    },
    {
     "name": "stdout",
     "output_type": "stream",
     "text": [
      "Is Multi-Label? False\n",
      "preprocessing test...\n",
      "language: hi\n",
      "test sequence lengths:\n",
      "\tmean : 23\n",
      "\t95percentile : 44\n",
      "\t99percentile : 51\n"
     ]
    },
    {
     "data": {
      "text/html": [
       "\n",
       "<style>\n",
       "    /* Turns off some styling */\n",
       "    progress {\n",
       "        /* gets rid of default border in Firefox and Opera. */\n",
       "        border: none;\n",
       "        /* Needs to be in here for Safari polyfill so background images work as expected. */\n",
       "        background-size: auto;\n",
       "    }\n",
       "    progress:not([value]), progress:not([value])::-webkit-progress-bar {\n",
       "        background: repeating-linear-gradient(45deg, #7e7e7e, #7e7e7e 10px, #5c5c5c 10px, #5c5c5c 20px);\n",
       "    }\n",
       "    .progress-bar-interrupted, .progress-bar-interrupted::-webkit-progress-bar {\n",
       "        background: #F44336;\n",
       "    }\n",
       "</style>\n"
      ],
      "text/plain": [
       "<IPython.core.display.HTML object>"
      ]
     },
     "metadata": {},
     "output_type": "display_data"
    },
    {
     "data": {
      "text/html": [],
      "text/plain": [
       "<IPython.core.display.HTML object>"
      ]
     },
     "metadata": {},
     "output_type": "display_data"
    }
   ],
   "source": [
    "# MODEL_NAME = 'google-bert/bert-base-multilingual-cased'\n",
    "# MODEL_NAME = 'roberta-base'\n",
    "MODEL_NAME = 'distilbert-base-multilingual-cased'\n",
    "t = text.Transformer(MODEL_NAME, maxlen=30, classes=classes_list)\n",
    "trn = t.preprocess_train(np.array(train_text), np.array(class_label_train))\n",
    "test = t.preprocess_test(np.array(val_text), np.array(class_label_val))\n",
    "model = t.get_classifier()\n",
    "learner = ktrain.get_learner(model, train_data=trn, val_data=test, batch_size=32)"
   ]
  },
  {
   "cell_type": "code",
   "execution_count": 61,
   "metadata": {},
   "outputs": [],
   "source": [
    "from tensorflow.keras.callbacks import ModelCheckpoint\n",
    "filepath = \"Subtask-B distilbert\"\n",
    "checkpoint = ModelCheckpoint(filepath, monitor='val_accuracy', verbose=1, save_best_only=True, mode='max')\n",
    "callbacks_list = [checkpoint]"
   ]
  },
  {
   "cell_type": "code",
   "execution_count": 62,
   "metadata": {},
   "outputs": [
    {
     "name": "stdout",
     "output_type": "stream",
     "text": [
      "\n",
      "\n",
      "begin training using onecycle policy with max lr of 5e-05...\n",
      "Epoch 1/10\n",
      "\n",
      "Epoch 1: val_accuracy improved from -inf to 0.88371, saving model to Subtask-B distilbert\n",
      "595/595 - 4238s - loss: 0.3351 - accuracy: 0.8835 - val_loss: 0.3089 - val_accuracy: 0.8837 - 4238s/epoch - 7s/step\n",
      "Epoch 2/10\n",
      "\n",
      "Epoch 2: val_accuracy did not improve from 0.88371\n",
      "595/595 - 4442s - loss: 0.2990 - accuracy: 0.8834 - val_loss: 0.3031 - val_accuracy: 0.8837 - 4442s/epoch - 7s/step\n",
      "Epoch 3/10\n",
      "\n",
      "Epoch 3: val_accuracy did not improve from 0.88371\n",
      "595/595 - 3153s - loss: 0.2618 - accuracy: 0.8901 - val_loss: 0.3019 - val_accuracy: 0.8830 - 3153s/epoch - 5s/step\n",
      "Epoch 4/10\n",
      "\n",
      "Epoch 4: val_accuracy did not improve from 0.88371\n",
      "595/595 - 2466s - loss: 0.2118 - accuracy: 0.9120 - val_loss: 0.3483 - val_accuracy: 0.8584 - 2466s/epoch - 4s/step\n",
      "Epoch 5/10\n",
      "\n",
      "Epoch 5: val_accuracy did not improve from 0.88371\n",
      "595/595 - 2856s - loss: 0.1643 - accuracy: 0.9334 - val_loss: 0.4630 - val_accuracy: 0.8815 - 2856s/epoch - 5s/step\n",
      "Epoch 6/10\n",
      "\n",
      "Epoch 6: val_accuracy did not improve from 0.88371\n",
      "595/595 - 2890s - loss: 0.1142 - accuracy: 0.9564 - val_loss: 0.4388 - val_accuracy: 0.8565 - 2890s/epoch - 5s/step\n",
      "Epoch 7/10\n",
      "\n",
      "Epoch 7: val_accuracy did not improve from 0.88371\n",
      "595/595 - 2874s - loss: 0.0635 - accuracy: 0.9777 - val_loss: 0.5523 - val_accuracy: 0.8695 - 2874s/epoch - 5s/step\n",
      "Epoch 8/10\n",
      "\n",
      "Epoch 8: val_accuracy did not improve from 0.88371\n",
      "595/595 - 2879s - loss: 0.0357 - accuracy: 0.9880 - val_loss: 0.6322 - val_accuracy: 0.8533 - 2879s/epoch - 5s/step\n",
      "Epoch 9/10\n",
      "\n",
      "Epoch 9: val_accuracy did not improve from 0.88371\n",
      "595/595 - 2379s - loss: 0.0209 - accuracy: 0.9942 - val_loss: 0.6657 - val_accuracy: 0.8678 - 2379s/epoch - 4s/step\n",
      "Epoch 10/10\n",
      "\n",
      "Epoch 10: val_accuracy did not improve from 0.88371\n",
      "595/595 - 2859s - loss: 0.0149 - accuracy: 0.9957 - val_loss: 0.7191 - val_accuracy: 0.8700 - 2859s/epoch - 5s/step\n"
     ]
    },
    {
     "data": {
      "text/plain": [
       "<keras.src.callbacks.History at 0x2303e2050d0>"
      ]
     },
     "execution_count": 62,
     "metadata": {},
     "output_type": "execute_result"
    }
   ],
   "source": [
    "learner.fit_onecycle(5e-5, 10, verbose=2, callbacks=callbacks_list) "
   ]
  },
  {
   "cell_type": "code",
   "execution_count": 63,
   "metadata": {},
   "outputs": [
    {
     "name": "stdout",
     "output_type": "stream",
     "text": [
      "128/128 [==============================] - 156s 1s/step\n"
     ]
    },
    {
     "name": "stderr",
     "output_type": "stream",
     "text": [
      "c:\\Users\\nimmi\\anaconda3\\Lib\\site-packages\\sklearn\\metrics\\_classification.py:1469: UndefinedMetricWarning: Precision and F-score are ill-defined and being set to 0.0 in labels with no predicted samples. Use `zero_division` parameter to control this behavior.\n",
      "  _warn_prf(average, modifier, msg_start, len(result))\n",
      "c:\\Users\\nimmi\\anaconda3\\Lib\\site-packages\\sklearn\\metrics\\_classification.py:1469: UndefinedMetricWarning: Precision and F-score are ill-defined and being set to 0.0 in labels with no predicted samples. Use `zero_division` parameter to control this behavior.\n",
      "  _warn_prf(average, modifier, msg_start, len(result))\n",
      "c:\\Users\\nimmi\\anaconda3\\Lib\\site-packages\\sklearn\\metrics\\_classification.py:1469: UndefinedMetricWarning: Precision and F-score are ill-defined and being set to 0.0 in labels with no predicted samples. Use `zero_division` parameter to control this behavior.\n",
      "  _warn_prf(average, modifier, msg_start, len(result))\n"
     ]
    },
    {
     "name": "stdout",
     "output_type": "stream",
     "text": [
      "              precision    recall  f1-score   support\n",
      "\n",
      "        hate       0.00      0.00      0.00       474\n",
      "    non-hate       0.88      1.00      0.94      3602\n",
      "\n",
      "    accuracy                           0.88      4076\n",
      "   macro avg       0.44      0.50      0.47      4076\n",
      "weighted avg       0.78      0.88      0.83      4076\n",
      "\n"
     ]
    }
   ],
   "source": [
    "filepath = \"Subtask-B distilbert\"\n",
    "model.load_weights(filepath)\n",
    "\n",
    "learner.validate(class_names=t.get_classes())\n",
    "\n",
    "predictor = ktrain.get_predictor(learner.model, preproc=t)\n",
    "\n",
    "predict = predictor.predict(test_text.values)"
   ]
  },
  {
   "cell_type": "code",
   "execution_count": 64,
   "metadata": {},
   "outputs": [],
   "source": [
    "labels = [1 if label == 'hate' else 0 for label in predict]"
   ]
  },
  {
   "cell_type": "code",
   "execution_count": 65,
   "metadata": {},
   "outputs": [],
   "source": [
    "predictions_df = pd.DataFrame({\n",
    "    'index': data_test['index'],  # Use the index from test_text DataFrame\n",
    "    'label': labels\n",
    "})"
   ]
  },
  {
   "cell_type": "code",
   "execution_count": 66,
   "metadata": {},
   "outputs": [
    {
     "data": {
      "text/plain": [
       "label\n",
       "0    4076\n",
       "Name: count, dtype: int64"
      ]
     },
     "execution_count": 66,
     "metadata": {},
     "output_type": "execute_result"
    }
   ],
   "source": [
    "predictions_df['label'].value_counts()"
   ]
  },
  {
   "cell_type": "code",
   "execution_count": 67,
   "metadata": {},
   "outputs": [],
   "source": [
    "predictions_df.to_csv('subtask-B_distilbert_prediction', index=False)"
   ]
  }
 ],
 "metadata": {
  "kernelspec": {
   "display_name": "base",
   "language": "python",
   "name": "python3"
  },
  "language_info": {
   "codemirror_mode": {
    "name": "ipython",
    "version": 3
   },
   "file_extension": ".py",
   "mimetype": "text/x-python",
   "name": "python",
   "nbconvert_exporter": "python",
   "pygments_lexer": "ipython3",
   "version": "3.11.5"
  }
 },
 "nbformat": 4,
 "nbformat_minor": 2
}
