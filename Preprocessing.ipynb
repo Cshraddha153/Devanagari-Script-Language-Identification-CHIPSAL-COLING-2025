{
 "cells": [
  {
   "cell_type": "code",
   "execution_count": 128,
   "metadata": {},
   "outputs": [],
   "source": [
    "import pandas as pd\n",
    "# data_train = pd.read_csv('Subtask A\\SubTask-A-train.csv')\n",
    "# data_val = pd.read_csv('Subtask A/SubTask-A-val.csv') \n",
    "# data_test = pd.read_csv('Subtask A/Task-A(index,text)test.csv')\n",
    "\n",
    "# data_train = pd.read_csv('Subtask B/SubTask-B-train.csv')\n",
    "# data_val = pd.read_csv('Subtask B/SubTask-B-val.csv')\n",
    "# data_val = pd.read_csv('Subtask B/SubTask-B-(index,tweet)val.csv') \n",
    "# label = pd.read_csv('Subtask B/SubTask-B-(index,label)val.csv')\n",
    "# data_test = pd.read_csv('Subtask B/Task-B(index,tweet)_label_test.csv')\n",
    "\n",
    "\n",
    "data_train = pd.read_csv('Subtask C/SubTask-C-train.csv')\n",
    "data_val = pd.read_csv('Subtask C/SubTask-C-val.csv')\n",
    "# data_val = pd.read_csv('Subtask C/SubTask-C-(index,tweet)val.csv') \n",
    "# label = pd.read_csv('Subtask C/SubTask-C-(index,label)val.csv')\n",
    "data_test = pd.read_csv('Subtask C/SubTask-C-(index,tweet)test.csv')"
   ]
  },
  {
   "cell_type": "code",
   "execution_count": 122,
   "metadata": {},
   "outputs": [],
   "source": [
    "# merged_val_data = pd.merge(data_val, data_val, on='index')\n",
    "# merged_val_data.to_csv('SubTask-A-val.csv', index=False)\n",
    "\n",
    "# merged_val_data = pd.merge(data_val, label, on='index')\n",
    "# merged_val_data.to_csv('SubTask-B-val.csv', index=False)\n",
    "\n",
    "# merged_val_data = pd.merge(data_val, label, on='index')\n",
    "# merged_val_data.to_csv('SubTask-C-val.csv', index=False)"
   ]
  },
  {
   "cell_type": "code",
   "execution_count": 123,
   "metadata": {},
   "outputs": [],
   "source": [
    "data_train = data_train.dropna(subset=['tweet'])"
   ]
  },
  {
   "cell_type": "code",
   "execution_count": 127,
   "metadata": {},
   "outputs": [
    {
     "name": "stdout",
     "output_type": "stream",
     "text": [
      "index    0\n",
      "tweet    0\n",
      "dtype: int64\n"
     ]
    }
   ],
   "source": [
    "print(data_test.isnull().sum()) "
   ]
  },
  {
   "cell_type": "code",
   "execution_count": 64,
   "metadata": {},
   "outputs": [
    {
     "name": "stdout",
     "output_type": "stream",
     "text": [
      "index    0\n",
      "text     0\n",
      "label    0\n",
      "dtype: int64\n"
     ]
    }
   ],
   "source": [
    "# data_val = data_val.dropna(subset=['tweet'])"
   ]
  },
  {
   "cell_type": "code",
   "execution_count": 129,
   "metadata": {},
   "outputs": [],
   "source": [
    "train_text = data_train['tweet']\n",
    "val_text = data_val['tweet']\n",
    "test_text = data_test['tweet']\n",
    "\n",
    "train_label = data_train['label']\n",
    "val_label = data_val['label']\n",
    "# test_label = data_test['label']"
   ]
  },
  {
   "cell_type": "code",
   "execution_count": 130,
   "metadata": {},
   "outputs": [
    {
     "data": {
      "text/plain": [
       "(label\n",
       " 0    1074\n",
       " 1     856\n",
       " 2     284\n",
       " Name: count, dtype: int64,\n",
       " label\n",
       " 0    230\n",
       " 1    183\n",
       " 2     61\n",
       " Name: count, dtype: int64)"
      ]
     },
     "execution_count": 130,
     "metadata": {},
     "output_type": "execute_result"
    }
   ],
   "source": [
    "train_label.value_counts(), val_label.value_counts()"
   ]
  },
  {
   "cell_type": "code",
   "execution_count": 131,
   "metadata": {},
   "outputs": [
    {
     "data": {
      "text/plain": [
       "0       1\n",
       "1       0\n",
       "2       0\n",
       "3       2\n",
       "4       0\n",
       "       ..\n",
       "2209    1\n",
       "2210    0\n",
       "2211    1\n",
       "2212    1\n",
       "2213    1\n",
       "Name: label, Length: 2214, dtype: int64"
      ]
     },
     "execution_count": 131,
     "metadata": {},
     "output_type": "execute_result"
    }
   ],
   "source": [
    "train_label"
   ]
  },
  {
   "cell_type": "code",
   "execution_count": 132,
   "metadata": {},
   "outputs": [
    {
     "name": "stdout",
     "output_type": "stream",
     "text": [
      "   index                                              tweet         label\n",
      "0  50000  @me_sherya सक्छ। यो जाबो एमाले त मलाई मनै पर्दैन।  organization\n",
      "1  50001  ‘धार्मिक भावनाएँ भड़का कर दंगे करवाना चाहते है...    individual\n",
      "2  50002  @belakoboli ये ट्वाके अङ्कल ओलि देउवा  माकुने ...    individual\n",
      "3  50003  @suvashsanatani यिनिहरुले बाटो, पुल, स्कुल, बि...     community\n",
      "4  50004  हिजो पार्टी मा ओलिले एकलौटि गर्‍यो भनेर स्याल ...    individual\n",
      "   index                                              tweet         label\n",
      "0  50012     भोट त लौरोमा हाल्ने हो रुखमा त मल हाले हुन्छ ।  organization\n",
      "1  50025  केन्द्रीय गृह एवं सहकारिता मंत्री अमित शाह (@A...    individual\n",
      "2  50027  @Alive_Aleeza @bishwaprakash77 @kpsharmaoli वि...    individual\n",
      "3  50028  @cmprachanda, @ncp_madhavnepal , @SherBDeuba ,...    individual\n",
      "4  50029  महाविद्ध्वान खड्ग प्रसादलाई भोट दिने भनेको जोक...    individual\n"
     ]
    }
   ],
   "source": [
    "# label_mapping = {0: 'Nepali', 1: 'Marathi', 2: 'Sanskrit', 3: 'Bhojpuri', 4: 'Hindi'}\n",
    "# label_mapping = {0: 'non-hate', 1: 'hate'}\n",
    "label_mapping = {0: 'individual', 1: 'organization', 2: 'community'}\n",
    "data_train['label'] = data_train['label'].replace(label_mapping)\n",
    "data_val['label'] = data_val['label'].replace(label_mapping)\n",
    "\n",
    "print(data_train.head())\n",
    "print(data_val.head())"
   ]
  },
  {
   "cell_type": "code",
   "execution_count": 133,
   "metadata": {},
   "outputs": [],
   "source": [
    "data_train.to_csv('trainC.csv', index=False)\n",
    "data_val.to_csv('valC.csv', index=False)"
   ]
  },
  {
   "cell_type": "code",
   "execution_count": null,
   "metadata": {},
   "outputs": [],
   "source": []
  }
 ],
 "metadata": {
  "kernelspec": {
   "display_name": "base",
   "language": "python",
   "name": "python3"
  },
  "language_info": {
   "codemirror_mode": {
    "name": "ipython",
    "version": 3
   },
   "file_extension": ".py",
   "mimetype": "text/x-python",
   "name": "python",
   "nbconvert_exporter": "python",
   "pygments_lexer": "ipython3",
   "version": "3.11.5"
  }
 },
 "nbformat": 4,
 "nbformat_minor": 2
}
