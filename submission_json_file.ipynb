{
 "cells": [
  {
   "cell_type": "code",
   "execution_count": 15,
   "metadata": {},
   "outputs": [],
   "source": [
    "import csv\n",
    "import json\n",
    "\n",
    "# Input CSV file\n",
    "# csv_file = 'subtask-C_googlebert_prediction.csv'\n",
    "# csv_file = 'subtask-C_distilbert_prediction.csv'\n",
    "# csv_file = 'subtask-C_Roberta_prediction.csv'\n",
    "\n",
    "# csv_file = 'subtask-B_distilbert_prediction.csv'\n",
    "# csv_file = 'subtask-B_Roberta_prediction.csv' \n",
    "# csv_file = 'subtask-B_googlebert_prediction.csv' \n",
    "\n",
    "csv_file = 'subtask-A_Roberta_prediction.csv'\n",
    "# csv_file = 'subtask-A_googlebert_prediction.csv' \n",
    "# csv_file = 'subtask-A_distilbert_prediction.csv' \n",
    "\n",
    "json_data = []\n",
    "with open(csv_file, mode='r') as file:\n",
    "    csv_reader = csv.reader(file)\n",
    "    next(csv_reader)  \n",
    "    for row in csv_reader:\n",
    "        json_data.append({\"index\": int(row[0]), \"prediction\": int(row[1])})\n",
    "\n",
    "# Output JSON file\n",
    "with open('subtask-A_roberta.json', 'w') as json_file:\n",
    "    for entry in json_data:\n",
    "        json.dump(entry, json_file)\n",
    "        json_file.write(\"\\n\")\n"
   ]
  }
 ],
 "metadata": {
  "kernelspec": {
   "display_name": "base",
   "language": "python",
   "name": "python3"
  },
  "language_info": {
   "codemirror_mode": {
    "name": "ipython",
    "version": 3
   },
   "file_extension": ".py",
   "mimetype": "text/x-python",
   "name": "python",
   "nbconvert_exporter": "python",
   "pygments_lexer": "ipython3",
   "version": "3.11.5"
  }
 },
 "nbformat": 4,
 "nbformat_minor": 2
}
