{
 "cells": [
  {
   "cell_type": "code",
   "execution_count": 1,
   "metadata": {},
   "outputs": [],
   "source": [
    "import pandas as pd\n",
    "data_train = pd.read_csv('trainA.csv')\n",
    "data_val = pd.read_csv('valA.csv')\n",
    "data_test = pd.read_csv('Subtask A/Task-A(index,text)test.csv')"
   ]
  },
  {
   "cell_type": "code",
   "execution_count": 2,
   "metadata": {},
   "outputs": [],
   "source": [
    "text_train = data_train['text']\n",
    "text_val = data_val['text']\n",
    "text_test = data_test['text']\n",
    "\n",
    "class_label_train = data_train['label']\n",
    "class_label_val = data_val['label']\n",
    "# class_label_test = data_test['label']"
   ]
  },
  {
   "cell_type": "code",
   "execution_count": 4,
   "metadata": {},
   "outputs": [
    {
     "data": {
      "text/plain": [
       "11234"
      ]
     },
     "execution_count": 4,
     "metadata": {},
     "output_type": "execute_result"
    }
   ],
   "source": [
    "len(text_test)"
   ]
  },
  {
   "cell_type": "code",
   "execution_count": 3,
   "metadata": {},
   "outputs": [
    {
     "data": {
      "text/plain": [
       "text\n",
       "कांग्रेस ने उम्मीदवारों की घोषणा की है और जल्द ही हम उस आखिरी सीट के लिए भी उम्मीदवार की घोषणा करेंगे। कांग्रेस पार्टी में मेरा बहुत विनम्र स्थान है जो कोई भी कांग्रेस से अलग हुआ है उसे वापस नहीं लिया जाएगा कांग्रेस नेता पी चिदंबरम                                                                                                                                                                       2\n",
       "मणिपुर में चुनाव की तारीखों में बदलाव फरवरी को होगी पहले चरण की वोटिंग                                                                                                                                                                                                                                                                                                                                        2\n",
       "त्यो आँ गरेको अन्वार मा झिँगा पस्न सक्छ है? हिजो अस्ति माओवादी को लागि भोट माग्दै हिँड्ने यहि गगने होइन र?                                                                                                                                                                                                                                                                                                    1\n",
       "उनकर ककहना बा कि अकसरहाँ एह तरह के शिविरन में फर्जी पद्धतियन का नाम पर फर्जी दवाई बाँटल जाले जवना के गुणवत्ता आगा पढ़ीं बलिया में कुख्यात अपराधी धनजी कुंवर गिरफ्तार उत्तर प्रदेश दू दिन पहिले एसओजी टीम आ बैरिया पुलिस मिल के कुख्यात इनामी अपराधी धनजी कुंवर के नौरंगा दियर से गिरफ्तार कर लिहलसि बाकिर ओकर दू गो संहतिया भाग निकललन सँ                                                                     1\n",
       "ओने स्वर्गीय जयललिता के बनावल मुख्यमंत्री पन्नीरसेल्वम के कहना बा कि ऊ कवनो ना कवनो तरह पलानीसामी के पलानी उजाड़िये आगा पढ़ीं टटका खबर फरवरी बुध अपराध चुनाव देशदुनिया भोजपुरी पट्टी सिवान के बाहुबली नेता आ सिवान से राजद सांसद रहल शहाबुद्दीन के सिवान जेल से हटा के तिहाड़ जेल भेजे के आदेश सुप्रीम कोर्ट दे दिहलसि आ इहो कहलस कि उनुका प चलत सगरी मामिला के सुनवाई वीडियो कान्प्फ्रेंसिंग से करावल जाव    1\n",
       "                                                                                                                                                                                                                                                                                                                                                                                                             ..\n",
       "शिक्षा मंत्री ने से निष्कासित को लेकर दे दिया ये बड़ा बयान                                                                                                                                                                                                                                                                                                                                                    1\n",
       "कोविड संक्रमण में गिरावट से राजनीतिक दलों को मिली बड़ी राहत मिली है। चुनाव आयोग ने गाइडलाइंस बदली दी है। अब और लोगों की शर्त हटा दी गई है।                                                                                                                                                                                                                                                                    1\n",
       "बनबसा में का कांग्रेस को समर्थन ।ये दैनिक जागरण में आयी है।अब वाले फिर सफाई देंगें या कांग्रेस की गोद में इलेक्शन से पहले बैठ चुकी है।                                                                                                                                                                                                                                                                        1\n",
       "उत्तराखंड में बीजेपी वाले महिलाओ को बिंदिया के पैकेट देकर उनसे वोट माँग रहे है इससे पता चलता है कि बीजेपी वालो की नजर में महिलाओ की क्या इज्जत है                                                                                                                                                                                                                                                             1\n",
       "पंढरपूरच्या वारीमध्ये मनुवादी, सनातनी विचारांचीही 'दिंडी'-अभिजीत कांबळे -                                                                                                                                                                                                                                                                                                                                     1\n",
       "Name: count, Length: 11232, dtype: int64"
      ]
     },
     "execution_count": 3,
     "metadata": {},
     "output_type": "execute_result"
    }
   ],
   "source": [
    "text_test.value_counts()"
   ]
  },
  {
   "cell_type": "code",
   "execution_count": 3,
   "metadata": {},
   "outputs": [
    {
     "data": {
      "text/plain": [
       "(label\n",
       " Nepali      12543\n",
       " Marathi     11034\n",
       " Sanskrit    10996\n",
       " Bhojpuri    10184\n",
       " Hindi        7660\n",
       " Name: count, dtype: int64,\n",
       " label\n",
       " Nepali      2688\n",
       " Marathi     2364\n",
       " Sanskrit    2356\n",
       " Bhojpuri    2182\n",
       " Hindi       1642\n",
       " Name: count, dtype: int64)"
      ]
     },
     "execution_count": 3,
     "metadata": {},
     "output_type": "execute_result"
    }
   ],
   "source": [
    "class_label_train.value_counts(), class_label_val.value_counts()"
   ]
  },
  {
   "cell_type": "code",
   "execution_count": 4,
   "metadata": {},
   "outputs": [],
   "source": [
    "import numpy as np\n",
    "classes_list = [\"Nepali\", \"Marathi\", \"Sanskrit\", \"Bhojpuri\", \"Hindi\"]\n",
    "label_index_train = class_label_train.apply(classes_list.index)\n",
    "label_index_val = class_label_val.apply(classes_list.index)\n",
    "# label_index_test = class_label_test.apply(classes_list.index)"
   ]
  },
  {
   "cell_type": "code",
   "execution_count": 5,
   "metadata": {},
   "outputs": [
    {
     "name": "stdout",
     "output_type": "stream",
     "text": [
      "WARNING:tensorflow:From c:\\Users\\nimmi\\anaconda3\\Lib\\site-packages\\keras\\src\\losses.py:2976: The name tf.losses.sparse_softmax_cross_entropy is deprecated. Please use tf.compat.v1.losses.sparse_softmax_cross_entropy instead.\n",
      "\n"
     ]
    }
   ],
   "source": [
    "import ktrain\n",
    "from ktrain import text"
   ]
  },
  {
   "cell_type": "code",
   "execution_count": 34,
   "metadata": {},
   "outputs": [
    {
     "name": "stderr",
     "output_type": "stream",
     "text": [
      "c:\\Users\\nimmi\\anaconda3\\Lib\\site-packages\\ktrain\\text\\preprocessor.py:382: UserWarning: The class_names argument is replacing the classes argument. Please update your code.\n",
      "  warnings.warn(\n"
     ]
    },
    {
     "name": "stdout",
     "output_type": "stream",
     "text": [
      "preprocessing train...\n",
      "language: ne\n",
      "train sequence lengths:\n",
      "\tmean : 22\n",
      "\t95percentile : 42\n",
      "\t99percentile : 57\n"
     ]
    },
    {
     "name": "stderr",
     "output_type": "stream",
     "text": [
      "c:\\Users\\nimmi\\anaconda3\\Lib\\site-packages\\ktrain\\utils.py:744: UserWarning: class_names argument was ignored, as they were extracted from string labels in dataset\n",
      "  warnings.warn(\n"
     ]
    },
    {
     "data": {
      "text/html": [
       "\n",
       "<style>\n",
       "    /* Turns off some styling */\n",
       "    progress {\n",
       "        /* gets rid of default border in Firefox and Opera. */\n",
       "        border: none;\n",
       "        /* Needs to be in here for Safari polyfill so background images work as expected. */\n",
       "        background-size: auto;\n",
       "    }\n",
       "    progress:not([value]), progress:not([value])::-webkit-progress-bar {\n",
       "        background: repeating-linear-gradient(45deg, #7e7e7e, #7e7e7e 10px, #5c5c5c 10px, #5c5c5c 20px);\n",
       "    }\n",
       "    .progress-bar-interrupted, .progress-bar-interrupted::-webkit-progress-bar {\n",
       "        background: #F44336;\n",
       "    }\n",
       "</style>\n"
      ],
      "text/plain": [
       "<IPython.core.display.HTML object>"
      ]
     },
     "metadata": {},
     "output_type": "display_data"
    },
    {
     "data": {
      "text/html": [],
      "text/plain": [
       "<IPython.core.display.HTML object>"
      ]
     },
     "metadata": {},
     "output_type": "display_data"
    },
    {
     "name": "stdout",
     "output_type": "stream",
     "text": [
      "Is Multi-Label? False\n",
      "preprocessing test...\n",
      "language: ne\n",
      "test sequence lengths:\n",
      "\tmean : 22\n",
      "\t95percentile : 42\n",
      "\t99percentile : 56\n"
     ]
    },
    {
     "data": {
      "text/html": [
       "\n",
       "<style>\n",
       "    /* Turns off some styling */\n",
       "    progress {\n",
       "        /* gets rid of default border in Firefox and Opera. */\n",
       "        border: none;\n",
       "        /* Needs to be in here for Safari polyfill so background images work as expected. */\n",
       "        background-size: auto;\n",
       "    }\n",
       "    progress:not([value]), progress:not([value])::-webkit-progress-bar {\n",
       "        background: repeating-linear-gradient(45deg, #7e7e7e, #7e7e7e 10px, #5c5c5c 10px, #5c5c5c 20px);\n",
       "    }\n",
       "    .progress-bar-interrupted, .progress-bar-interrupted::-webkit-progress-bar {\n",
       "        background: #F44336;\n",
       "    }\n",
       "</style>\n"
      ],
      "text/plain": [
       "<IPython.core.display.HTML object>"
      ]
     },
     "metadata": {},
     "output_type": "display_data"
    },
    {
     "data": {
      "text/html": [],
      "text/plain": [
       "<IPython.core.display.HTML object>"
      ]
     },
     "metadata": {},
     "output_type": "display_data"
    }
   ],
   "source": [
    "# MODEL_NAME = 'distilbert-base-multilingual-cased'\n",
    "MODEL_NAME = 'roberta-base'\n",
    "t = text.Transformer(MODEL_NAME, maxlen=30, classes=classes_list)\n",
    "trn = t.preprocess_train(np.array(text_train), np.array(class_label_train))\n",
    "test = t.preprocess_test(np.array(text_val), np.array(class_label_val))\n",
    "model = t.get_classifier()\n",
    "learner = ktrain.get_learner(model, train_data=trn, val_data=test, batch_size=32)"
   ]
  },
  {
   "cell_type": "code",
   "execution_count": 35,
   "metadata": {},
   "outputs": [],
   "source": [
    "from tensorflow.keras.callbacks import ModelCheckpoint\n",
    "filepath = \"Subtask-A Roberta\"\n",
    "checkpoint = ModelCheckpoint(filepath, monitor='val_accuracy', verbose=1, save_best_only=True, mode='max')\n",
    "callbacks_list = [checkpoint]"
   ]
  },
  {
   "cell_type": "code",
   "execution_count": 36,
   "metadata": {},
   "outputs": [
    {
     "name": "stdout",
     "output_type": "stream",
     "text": [
      "\n",
      "\n",
      "begin training using onecycle policy with max lr of 5e-05...\n",
      "Epoch 1/10\n",
      "\n",
      "Epoch 1: val_accuracy improved from -inf to 0.86280, saving model to Subtask-A Roberta\n",
      "1639/1639 - 6734s - loss: 0.6405 - accuracy: 0.7524 - val_loss: 0.3824 - val_accuracy: 0.8628 - 6734s/epoch - 4s/step\n",
      "Epoch 2/10\n",
      "\n",
      "Epoch 2: val_accuracy improved from 0.86280 to 0.88835, saving model to Subtask-A Roberta\n",
      "1639/1639 - 8992s - loss: 0.3793 - accuracy: 0.8619 - val_loss: 0.3052 - val_accuracy: 0.8884 - 8992s/epoch - 5s/step\n",
      "Epoch 3/10\n",
      "\n",
      "Epoch 3: val_accuracy did not improve from 0.88835\n",
      "1639/1639 - 6567s - loss: 0.3161 - accuracy: 0.8848 - val_loss: 0.3470 - val_accuracy: 0.8745 - 6567s/epoch - 4s/step\n",
      "Epoch 4/10\n",
      "\n",
      "Epoch 4: val_accuracy improved from 0.88835 to 0.90233, saving model to Subtask-A Roberta\n",
      "1639/1639 - 7206s - loss: 0.2889 - accuracy: 0.8959 - val_loss: 0.2905 - val_accuracy: 0.9023 - 7206s/epoch - 4s/step\n",
      "Epoch 5/10\n",
      "\n",
      "Epoch 5: val_accuracy improved from 0.90233 to 0.90678, saving model to Subtask-A Roberta\n",
      "1639/1639 - 9566s - loss: 0.2709 - accuracy: 0.9043 - val_loss: 0.2706 - val_accuracy: 0.9068 - 9566s/epoch - 6s/step\n",
      "Epoch 6/10\n",
      "\n",
      "Epoch 6: val_accuracy improved from 0.90678 to 0.91382, saving model to Subtask-A Roberta\n",
      "1639/1639 - 6414s - loss: 0.2356 - accuracy: 0.9173 - val_loss: 0.2541 - val_accuracy: 0.9138 - 6414s/epoch - 4s/step\n",
      "Epoch 7/10\n",
      "\n",
      "Epoch 7: val_accuracy improved from 0.91382 to 0.92655, saving model to Subtask-A Roberta\n",
      "1639/1639 - 6620s - loss: 0.1831 - accuracy: 0.9356 - val_loss: 0.2237 - val_accuracy: 0.9265 - 6620s/epoch - 4s/step\n",
      "Epoch 8/10\n",
      "\n",
      "Epoch 8: val_accuracy improved from 0.92655 to 0.93020, saving model to Subtask-A Roberta\n",
      "1639/1639 - 16394s - loss: 0.1423 - accuracy: 0.9498 - val_loss: 0.2240 - val_accuracy: 0.9302 - 16394s/epoch - 10s/step\n",
      "Epoch 9/10\n",
      "\n",
      "Epoch 9: val_accuracy improved from 0.93020 to 0.93394, saving model to Subtask-A Roberta\n",
      "1639/1639 - 14887s - loss: 0.1001 - accuracy: 0.9646 - val_loss: 0.2296 - val_accuracy: 0.9339 - 14887s/epoch - 9s/step\n",
      "Epoch 10/10\n",
      "\n",
      "Epoch 10: val_accuracy improved from 0.93394 to 0.93421, saving model to Subtask-A Roberta\n",
      "1639/1639 - 16236s - loss: 0.0678 - accuracy: 0.9761 - val_loss: 0.2406 - val_accuracy: 0.9342 - 16236s/epoch - 10s/step\n"
     ]
    },
    {
     "data": {
      "text/plain": [
       "<keras.src.callbacks.History at 0x209043b6010>"
      ]
     },
     "execution_count": 36,
     "metadata": {},
     "output_type": "execute_result"
    }
   ],
   "source": [
    "learner.fit_onecycle(5e-5, 10, verbose=2, callbacks=callbacks_list)"
   ]
  },
  {
   "cell_type": "code",
   "execution_count": null,
   "metadata": {},
   "outputs": [],
   "source": [
    "# Run from here "
   ]
  },
  {
   "cell_type": "code",
   "execution_count": 8,
   "metadata": {},
   "outputs": [
    {
     "name": "stdout",
     "output_type": "stream",
     "text": [
      "351/351 [==============================] - 475s 1s/step\n",
      "              precision    recall  f1-score   support\n",
      "\n",
      "    Bhojpuri       0.99      0.99      0.99      2182\n",
      "       Hindi       0.98      0.98      0.98      1642\n",
      "     Marathi       0.99      1.00      0.99      2364\n",
      "      Nepali       0.99      1.00      0.99      2688\n",
      "    Sanskrit       1.00      1.00      1.00      2356\n",
      "\n",
      "    accuracy                           0.99     11232\n",
      "   macro avg       0.99      0.99      0.99     11232\n",
      "weighted avg       0.99      0.99      0.99     11232\n",
      "\n"
     ]
    }
   ],
   "source": [
    "# filepath = \"Subtask-A distilbert\"\n",
    "# model.load_weights(filepath)\n",
    "\n",
    "# learner.validate(class_names=t.get_classes())\n",
    "\n",
    "# predictor = ktrain.get_predictor(learner.model, preproc=t)\n",
    "\n",
    "# predict = predictor.predict(text_test.values)"
   ]
  },
  {
   "cell_type": "code",
   "execution_count": 37,
   "metadata": {},
   "outputs": [
    {
     "name": "stdout",
     "output_type": "stream",
     "text": [
      "351/351 [==============================] - 980s 3s/step\n",
      "              precision    recall  f1-score   support\n",
      "\n",
      "    Bhojpuri       0.89      0.89      0.89      2182\n",
      "       Hindi       0.88      0.88      0.88      1642\n",
      "     Marathi       0.94      0.95      0.94      2364\n",
      "      Nepali       0.96      0.96      0.96      2688\n",
      "    Sanskrit       0.98      0.98      0.98      2356\n",
      "\n",
      "    accuracy                           0.93     11232\n",
      "   macro avg       0.93      0.93      0.93     11232\n",
      "weighted avg       0.93      0.93      0.93     11232\n",
      "\n"
     ]
    }
   ],
   "source": [
    "filepath = \"Subtask-A Roberta\"\n",
    "model.load_weights(filepath)\n",
    "\n",
    "learner.validate(class_names=t.get_classes())\n",
    "\n",
    "predictor = ktrain.get_predictor(learner.model, preproc=t)\n",
    "\n",
    "predict = predictor.predict(text_test.values)"
   ]
  },
  {
   "cell_type": "code",
   "execution_count": 38,
   "metadata": {},
   "outputs": [
    {
     "name": "stdout",
     "output_type": "stream",
     "text": [
      "       index  label\n",
      "0      10004      0\n",
      "1      10005      0\n",
      "2      10007      0\n",
      "3      10011      0\n",
      "4      10018      0\n",
      "...      ...    ...\n",
      "11229  84860      1\n",
      "11230  84862      1\n",
      "11231  84865      1\n",
      "11232  84876      1\n",
      "11233  84880      1\n",
      "\n",
      "[11234 rows x 2 columns]\n"
     ]
    }
   ],
   "source": [
    "label_mapping = {\n",
    "    \"Nepali\": 0,\n",
    "    \"Marathi\": 1,\n",
    "    \"Sanskrit\": 2,\n",
    "    \"Bhojpuri\": 3,\n",
    "    \"Hindi\": 4\n",
    "}\n",
    "numeric_predictions = [label_mapping[label] for label in predict]\n",
    "\n",
    "df = pd.DataFrame({\n",
    "    'index': data_test['index'],\n",
    "    'label': numeric_predictions\n",
    "})\n",
    "print(df)"
   ]
  },
  {
   "cell_type": "code",
   "execution_count": 29,
   "metadata": {},
   "outputs": [
    {
     "data": {
      "text/plain": [
       "label\n",
       "0    2699\n",
       "1    2373\n",
       "2    2355\n",
       "3    2178\n",
       "4    1629\n",
       "Name: count, dtype: int64"
      ]
     },
     "execution_count": 29,
     "metadata": {},
     "output_type": "execute_result"
    }
   ],
   "source": [
    "# df['label'].value_counts()      #distilbert"
   ]
  },
  {
   "cell_type": "code",
   "execution_count": 39,
   "metadata": {},
   "outputs": [
    {
     "data": {
      "text/plain": [
       "label\n",
       "0    2675\n",
       "1    2380\n",
       "2    2346\n",
       "3    2190\n",
       "4    1643\n",
       "Name: count, dtype: int64"
      ]
     },
     "execution_count": 39,
     "metadata": {},
     "output_type": "execute_result"
    }
   ],
   "source": [
    "df['label'].value_counts() #roberta"
   ]
  },
  {
   "cell_type": "code",
   "execution_count": 40,
   "metadata": {},
   "outputs": [],
   "source": [
    "df.to_csv('subtask-A_Roberta_prediction', index=False)"
   ]
  }
 ],
 "metadata": {
  "kernelspec": {
   "display_name": "base",
   "language": "python",
   "name": "python3"
  },
  "language_info": {
   "codemirror_mode": {
    "name": "ipython",
    "version": 3
   },
   "file_extension": ".py",
   "mimetype": "text/x-python",
   "name": "python",
   "nbconvert_exporter": "python",
   "pygments_lexer": "ipython3",
   "version": "3.11.5"
  }
 },
 "nbformat": 4,
 "nbformat_minor": 2
}
